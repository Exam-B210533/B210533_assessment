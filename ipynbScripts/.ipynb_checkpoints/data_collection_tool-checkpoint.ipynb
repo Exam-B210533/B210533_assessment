{
 "cells": [
  {
   "cell_type": "markdown",
   "id": "premier-meeting",
   "metadata": {},
   "source": [
    "# Title: Collecting data using interactive Jupyter widgets  \n",
    "**Author details:** *Author:* Shona McElroy. *Contact details:* s2272790@ed.ac.uk.  <br /> \n",
    "**Notebook and data info:** This Notebook provides for part of the assessment for Working with Data Types and Structures in R and Python using interactive jupyter-widgets and to collect the NHS England mortality data (ons_mortality).The following widgets are designed to capture the data required for a data capture tool. <br /> **Data:** Data consists of date, numerical data and character data from NHSRdatasets package. <br />\n",
    "**Copyright statement:** This Notebook is the product of Shona McElroy."
   ]
  },
  {
   "cell_type": "code",
   "execution_count": 1,
   "id": "junior-memorabilia",
   "metadata": {},
   "outputs": [
    {
     "data": {
      "text/html": [
       "<div>\n",
       "<style scoped>\n",
       "    .dataframe tbody tr th:only-of-type {\n",
       "        vertical-align: middle;\n",
       "    }\n",
       "\n",
       "    .dataframe tbody tr th {\n",
       "        vertical-align: top;\n",
       "    }\n",
       "\n",
       "    .dataframe thead th {\n",
       "        text-align: right;\n",
       "    }\n",
       "</style>\n",
       "<table border=\"1\" class=\"dataframe\">\n",
       "  <thead>\n",
       "    <tr style=\"text-align: right;\">\n",
       "      <th></th>\n",
       "      <th>index</th>\n",
       "      <th>week_no</th>\n",
       "      <th>year</th>\n",
       "      <th>date</th>\n",
       "      <th>counts</th>\n",
       "      <th>mort_avg</th>\n",
       "      <th>variance_from_avg</th>\n",
       "    </tr>\n",
       "  </thead>\n",
       "  <tbody>\n",
       "    <tr>\n",
       "      <th>0</th>\n",
       "      <td>1798</td>\n",
       "      <td>30</td>\n",
       "      <td>2011</td>\n",
       "      <td>2011-07-29</td>\n",
       "      <td>8456</td>\n",
       "      <td>8737.4</td>\n",
       "      <td>0.967794</td>\n",
       "    </tr>\n",
       "    <tr>\n",
       "      <th>1</th>\n",
       "      <td>1803</td>\n",
       "      <td>35</td>\n",
       "      <td>2011</td>\n",
       "      <td>2011-09-02</td>\n",
       "      <td>7717</td>\n",
       "      <td>7984.6</td>\n",
       "      <td>0.966485</td>\n",
       "    </tr>\n",
       "    <tr>\n",
       "      <th>2</th>\n",
       "      <td>5324</td>\n",
       "      <td>19</td>\n",
       "      <td>2013</td>\n",
       "      <td>2013-05-10</td>\n",
       "      <td>8814</td>\n",
       "      <td>9096.0</td>\n",
       "      <td>0.968997</td>\n",
       "    </tr>\n",
       "    <tr>\n",
       "      <th>3</th>\n",
       "      <td>5326</td>\n",
       "      <td>21</td>\n",
       "      <td>2013</td>\n",
       "      <td>2013-05-24</td>\n",
       "      <td>9530</td>\n",
       "      <td>9311.2</td>\n",
       "      <td>1.023499</td>\n",
       "    </tr>\n",
       "    <tr>\n",
       "      <th>4</th>\n",
       "      <td>7121</td>\n",
       "      <td>48</td>\n",
       "      <td>2014</td>\n",
       "      <td>2014-11-28</td>\n",
       "      <td>9928</td>\n",
       "      <td>9398.8</td>\n",
       "      <td>1.056305</td>\n",
       "    </tr>\n",
       "    <tr>\n",
       "      <th>5</th>\n",
       "      <td>10722</td>\n",
       "      <td>27</td>\n",
       "      <td>2016</td>\n",
       "      <td>2016-07-08</td>\n",
       "      <td>9138</td>\n",
       "      <td>8872.2</td>\n",
       "      <td>1.029959</td>\n",
       "    </tr>\n",
       "    <tr>\n",
       "      <th>6</th>\n",
       "      <td>10742</td>\n",
       "      <td>47</td>\n",
       "      <td>2016</td>\n",
       "      <td>2016-11-25</td>\n",
       "      <td>10603</td>\n",
       "      <td>9572.0</td>\n",
       "      <td>1.107710</td>\n",
       "    </tr>\n",
       "    <tr>\n",
       "      <th>7</th>\n",
       "      <td>12473</td>\n",
       "      <td>10</td>\n",
       "      <td>2017</td>\n",
       "      <td>2017-03-10</td>\n",
       "      <td>11077</td>\n",
       "      <td>10816.0</td>\n",
       "      <td>1.024131</td>\n",
       "    </tr>\n",
       "    <tr>\n",
       "      <th>8</th>\n",
       "      <td>14259</td>\n",
       "      <td>28</td>\n",
       "      <td>2018</td>\n",
       "      <td>2018-07-13</td>\n",
       "      <td>9293</td>\n",
       "      <td>9018.0</td>\n",
       "      <td>1.030495</td>\n",
       "    </tr>\n",
       "    <tr>\n",
       "      <th>9</th>\n",
       "      <td>16021</td>\n",
       "      <td>22</td>\n",
       "      <td>2019</td>\n",
       "      <td>2019-05-31</td>\n",
       "      <td>8260</td>\n",
       "      <td>8125.0</td>\n",
       "      <td>1.016615</td>\n",
       "    </tr>\n",
       "    <tr>\n",
       "      <th>10</th>\n",
       "      <td>16029</td>\n",
       "      <td>30</td>\n",
       "      <td>2019</td>\n",
       "      <td>2019-07-26</td>\n",
       "      <td>9112</td>\n",
       "      <td>9023.0</td>\n",
       "      <td>1.009864</td>\n",
       "    </tr>\n",
       "  </tbody>\n",
       "</table>\n",
       "</div>"
      ],
      "text/plain": [
       "    index  week_no  year        date  counts  mort_avg  variance_from_avg\n",
       "0    1798       30  2011  2011-07-29    8456    8737.4           0.967794\n",
       "1    1803       35  2011  2011-09-02    7717    7984.6           0.966485\n",
       "2    5324       19  2013  2013-05-10    8814    9096.0           0.968997\n",
       "3    5326       21  2013  2013-05-24    9530    9311.2           1.023499\n",
       "4    7121       48  2014  2014-11-28    9928    9398.8           1.056305\n",
       "5   10722       27  2016  2016-07-08    9138    8872.2           1.029959\n",
       "6   10742       47  2016  2016-11-25   10603    9572.0           1.107710\n",
       "7   12473       10  2017  2017-03-10   11077   10816.0           1.024131\n",
       "8   14259       28  2018  2018-07-13    9293    9018.0           1.030495\n",
       "9   16021       22  2019  2019-05-31    8260    8125.0           1.016615\n",
       "10  16029       30  2019  2019-07-26    9112    9023.0           1.009864"
      ]
     },
     "execution_count": 1,
     "metadata": {},
     "output_type": "execute_result"
    }
   ],
   "source": [
    "#Load the 'pandas' package\n",
    "import pandas as pd\n",
    "testData=pd.read_csv(\"../Data/ons_mortality_ENG_1019_test.csv\")\n",
    "testData"
   ]
  },
  {
   "cell_type": "markdown",
   "id": "spanish-blast",
   "metadata": {},
   "source": [
    "#### Data type"
   ]
  },
  {
   "cell_type": "code",
   "execution_count": 2,
   "id": "olive-pixel",
   "metadata": {},
   "outputs": [
    {
     "name": "stdout",
     "output_type": "stream",
     "text": [
      "Output:\n",
      "index                  int64\n",
      "week_no                int64\n",
      "year                   int64\n",
      "date                  object\n",
      "counts                 int64\n",
      "mort_avg             float64\n",
      "variance_from_avg    float64\n",
      "dtype: object\n"
     ]
    }
   ],
   "source": [
    "result = testData.dtypes\n",
    "print(\"Output:\")\n",
    "print(result)"
   ]
  },
  {
   "cell_type": "markdown",
   "id": "thick-harassment",
   "metadata": {},
   "source": [
    "#### View a sample of the test data frame"
   ]
  },
  {
   "cell_type": "code",
   "execution_count": 118,
   "id": "precise-cisco",
   "metadata": {},
   "outputs": [
    {
     "data": {
      "text/html": [
       "<div>\n",
       "<style scoped>\n",
       "    .dataframe tbody tr th:only-of-type {\n",
       "        vertical-align: middle;\n",
       "    }\n",
       "\n",
       "    .dataframe tbody tr th {\n",
       "        vertical-align: top;\n",
       "    }\n",
       "\n",
       "    .dataframe thead th {\n",
       "        text-align: right;\n",
       "    }\n",
       "</style>\n",
       "<table border=\"1\" class=\"dataframe\">\n",
       "  <thead>\n",
       "    <tr style=\"text-align: right;\">\n",
       "      <th></th>\n",
       "      <th>index</th>\n",
       "      <th>week_no</th>\n",
       "      <th>year</th>\n",
       "      <th>date</th>\n",
       "      <th>counts</th>\n",
       "      <th>mort_avg</th>\n",
       "      <th>variance_from_avg</th>\n",
       "    </tr>\n",
       "  </thead>\n",
       "  <tbody>\n",
       "    <tr>\n",
       "      <th>0</th>\n",
       "      <td>1798</td>\n",
       "      <td>30</td>\n",
       "      <td>2011</td>\n",
       "      <td>2011-07-29</td>\n",
       "      <td>8456</td>\n",
       "      <td>8737.4</td>\n",
       "      <td>0.967794</td>\n",
       "    </tr>\n",
       "  </tbody>\n",
       "</table>\n",
       "</div>"
      ],
      "text/plain": [
       "   index  week_no  year        date  counts  mort_avg  variance_from_avg\n",
       "0   1798       30  2011  2011-07-29    8456    8737.4           0.967794"
      ]
     },
     "execution_count": 118,
     "metadata": {},
     "output_type": "execute_result"
    }
   ],
   "source": [
    "testData.head(n=1)"
   ]
  },
  {
   "cell_type": "markdown",
   "id": "dressed-january",
   "metadata": {},
   "source": [
    "#### Set up empty data frame for data collection"
   ]
  },
  {
   "cell_type": "code",
   "execution_count": 251,
   "id": "proprietary-samoa",
   "metadata": {},
   "outputs": [
    {
     "data": {
      "text/html": [
       "<div>\n",
       "<style scoped>\n",
       "    .dataframe tbody tr th:only-of-type {\n",
       "        vertical-align: middle;\n",
       "    }\n",
       "\n",
       "    .dataframe tbody tr th {\n",
       "        vertical-align: top;\n",
       "    }\n",
       "\n",
       "    .dataframe thead th {\n",
       "        text-align: right;\n",
       "    }\n",
       "</style>\n",
       "<table border=\"1\" class=\"dataframe\">\n",
       "  <thead>\n",
       "    <tr style=\"text-align: right;\">\n",
       "      <th></th>\n",
       "      <th>index</th>\n",
       "      <th>week_no</th>\n",
       "      <th>year</th>\n",
       "      <th>date</th>\n",
       "      <th>counts</th>\n",
       "      <th>mort_avg</th>\n",
       "      <th>variance_from_avg</th>\n",
       "      <th>consent</th>\n",
       "    </tr>\n",
       "  </thead>\n",
       "  <tbody>\n",
       "    <tr>\n",
       "      <th>0</th>\n",
       "      <td>0</td>\n",
       "      <td>0</td>\n",
       "      <td>0</td>\n",
       "      <td>2000-01-01</td>\n",
       "      <td>0</td>\n",
       "      <td>0.0</td>\n",
       "      <td>0</td>\n",
       "      <td>False</td>\n",
       "    </tr>\n",
       "  </tbody>\n",
       "</table>\n",
       "</div>"
      ],
      "text/plain": [
       "   index  week_no  year       date  counts  mort_avg  variance_from_avg  \\\n",
       "0      0        0     0 2000-01-01       0       0.0                  0   \n",
       "\n",
       "   consent  \n",
       "0    False  "
      ]
     },
     "execution_count": 251,
     "metadata": {},
     "output_type": "execute_result"
    }
   ],
   "source": [
    "dfTofill = pd.DataFrame({'index': [0],# Integer\n",
    "                   'week_no': [0], # Integer\n",
    "                   'year': [0], # Integer\n",
    "                   'date': [pd.Timestamp('20000101')], # Date\n",
    "                   'counts': [0], # Integer\n",
    "                   'mort_avg': [0.0], # Float\n",
    "                   'variance_from_avg': [0], # Integer\n",
    "                   'consent': [False]}) # Boolean \n",
    "\n",
    "dfTofill"
   ]
  },
  {
   "cell_type": "markdown",
   "id": "radio-table",
   "metadata": {},
   "source": [
    "#### Save the empty data frame "
   ]
  },
  {
   "cell_type": "code",
   "execution_count": 252,
   "id": "divine-portfolio",
   "metadata": {},
   "outputs": [],
   "source": [
    "#dfTofill.to_csv('../Data/collected_data.csv', index=False)"
   ]
  },
  {
   "cell_type": "code",
   "execution_count": 253,
   "id": "cultural-calibration",
   "metadata": {},
   "outputs": [
    {
     "data": {
      "text/html": [
       "<div>\n",
       "<style scoped>\n",
       "    .dataframe tbody tr th:only-of-type {\n",
       "        vertical-align: middle;\n",
       "    }\n",
       "\n",
       "    .dataframe tbody tr th {\n",
       "        vertical-align: top;\n",
       "    }\n",
       "\n",
       "    .dataframe thead th {\n",
       "        text-align: right;\n",
       "    }\n",
       "</style>\n",
       "<table border=\"1\" class=\"dataframe\">\n",
       "  <thead>\n",
       "    <tr style=\"text-align: right;\">\n",
       "      <th></th>\n",
       "      <th>index</th>\n",
       "      <th>week_no</th>\n",
       "      <th>year</th>\n",
       "      <th>date</th>\n",
       "      <th>counts</th>\n",
       "      <th>mort_avg</th>\n",
       "      <th>variance_from_avg</th>\n",
       "      <th>consent</th>\n",
       "    </tr>\n",
       "  </thead>\n",
       "  <tbody>\n",
       "    <tr>\n",
       "      <th>0</th>\n",
       "      <td>1798</td>\n",
       "      <td>30</td>\n",
       "      <td>2011</td>\n",
       "      <td>2011-07-29</td>\n",
       "      <td>0</td>\n",
       "      <td>8737.4</td>\n",
       "      <td>0.967794</td>\n",
       "      <td>True</td>\n",
       "    </tr>\n",
       "    <tr>\n",
       "      <th>1</th>\n",
       "      <td>1803</td>\n",
       "      <td>35</td>\n",
       "      <td>2011</td>\n",
       "      <td>2011-09-02</td>\n",
       "      <td>7717</td>\n",
       "      <td>7984.6</td>\n",
       "      <td>0.966485</td>\n",
       "      <td>True</td>\n",
       "    </tr>\n",
       "    <tr>\n",
       "      <th>2</th>\n",
       "      <td>5324</td>\n",
       "      <td>19</td>\n",
       "      <td>2013</td>\n",
       "      <td>2013-05-10</td>\n",
       "      <td>8814</td>\n",
       "      <td>9096.0</td>\n",
       "      <td>0.968997</td>\n",
       "      <td>True</td>\n",
       "    </tr>\n",
       "    <tr>\n",
       "      <th>3</th>\n",
       "      <td>5326</td>\n",
       "      <td>21</td>\n",
       "      <td>2013</td>\n",
       "      <td>2013-05-24</td>\n",
       "      <td>9530</td>\n",
       "      <td>9311.2</td>\n",
       "      <td>1.023499</td>\n",
       "      <td>True</td>\n",
       "    </tr>\n",
       "    <tr>\n",
       "      <th>4</th>\n",
       "      <td>7121</td>\n",
       "      <td>48</td>\n",
       "      <td>2014</td>\n",
       "      <td>2014-11-28</td>\n",
       "      <td>9928</td>\n",
       "      <td>9398.8</td>\n",
       "      <td>1.056305</td>\n",
       "      <td>True</td>\n",
       "    </tr>\n",
       "    <tr>\n",
       "      <th>5</th>\n",
       "      <td>10722</td>\n",
       "      <td>27</td>\n",
       "      <td>2016</td>\n",
       "      <td>2016-07-08</td>\n",
       "      <td>9138</td>\n",
       "      <td>8872.2</td>\n",
       "      <td>1.029959</td>\n",
       "      <td>True</td>\n",
       "    </tr>\n",
       "    <tr>\n",
       "      <th>6</th>\n",
       "      <td>10742</td>\n",
       "      <td>47</td>\n",
       "      <td>2016</td>\n",
       "      <td>2016-11-25</td>\n",
       "      <td>10603</td>\n",
       "      <td>9572.0</td>\n",
       "      <td>1.107710</td>\n",
       "      <td>True</td>\n",
       "    </tr>\n",
       "    <tr>\n",
       "      <th>7</th>\n",
       "      <td>12473</td>\n",
       "      <td>10</td>\n",
       "      <td>2017</td>\n",
       "      <td>2017-03-10</td>\n",
       "      <td>11077</td>\n",
       "      <td>10816.0</td>\n",
       "      <td>1.024131</td>\n",
       "      <td>True</td>\n",
       "    </tr>\n",
       "    <tr>\n",
       "      <th>8</th>\n",
       "      <td>14259</td>\n",
       "      <td>28</td>\n",
       "      <td>2018</td>\n",
       "      <td>2018-07-13</td>\n",
       "      <td>9293</td>\n",
       "      <td>9018.0</td>\n",
       "      <td>1.030495</td>\n",
       "      <td>True</td>\n",
       "    </tr>\n",
       "    <tr>\n",
       "      <th>9</th>\n",
       "      <td>16021</td>\n",
       "      <td>22</td>\n",
       "      <td>2019</td>\n",
       "      <td>2019-05-31</td>\n",
       "      <td>8260</td>\n",
       "      <td>8125.0</td>\n",
       "      <td>1.016615</td>\n",
       "      <td>True</td>\n",
       "    </tr>\n",
       "  </tbody>\n",
       "</table>\n",
       "</div>"
      ],
      "text/plain": [
       "   index  week_no  year        date  counts  mort_avg  variance_from_avg  \\\n",
       "0   1798       30  2011  2011-07-29       0    8737.4           0.967794   \n",
       "1   1803       35  2011  2011-09-02    7717    7984.6           0.966485   \n",
       "2   5324       19  2013  2013-05-10    8814    9096.0           0.968997   \n",
       "3   5326       21  2013  2013-05-24    9530    9311.2           1.023499   \n",
       "4   7121       48  2014  2014-11-28    9928    9398.8           1.056305   \n",
       "5  10722       27  2016  2016-07-08    9138    8872.2           1.029959   \n",
       "6  10742       47  2016  2016-11-25   10603    9572.0           1.107710   \n",
       "7  12473       10  2017  2017-03-10   11077   10816.0           1.024131   \n",
       "8  14259       28  2018  2018-07-13    9293    9018.0           1.030495   \n",
       "9  16021       22  2019  2019-05-31    8260    8125.0           1.016615   \n",
       "\n",
       "   consent  \n",
       "0     True  \n",
       "1     True  \n",
       "2     True  \n",
       "3     True  \n",
       "4     True  \n",
       "5     True  \n",
       "6     True  \n",
       "7     True  \n",
       "8     True  \n",
       "9     True  "
      ]
     },
     "execution_count": 253,
     "metadata": {},
     "output_type": "execute_result"
    }
   ],
   "source": [
    "CollectData=pd.read_csv(\"../Data/collected_data.csv\")\n",
    "CollectData"
   ]
  },
  {
   "cell_type": "markdown",
   "id": "attended-wrapping",
   "metadata": {},
   "source": [
    "## Index number for each record (to be changed for each entry) "
   ]
  },
  {
   "cell_type": "code",
   "execution_count": 255,
   "id": "measured-exclusion",
   "metadata": {},
   "outputs": [],
   "source": [
    "index_number=16029 #Remember to change for each record."
   ]
  },
  {
   "cell_type": "code",
   "execution_count": 256,
   "id": "advanced-consortium",
   "metadata": {},
   "outputs": [
    {
     "data": {
      "text/html": [
       "<div>\n",
       "<style scoped>\n",
       "    .dataframe tbody tr th:only-of-type {\n",
       "        vertical-align: middle;\n",
       "    }\n",
       "\n",
       "    .dataframe tbody tr th {\n",
       "        vertical-align: top;\n",
       "    }\n",
       "\n",
       "    .dataframe thead th {\n",
       "        text-align: right;\n",
       "    }\n",
       "</style>\n",
       "<table border=\"1\" class=\"dataframe\">\n",
       "  <thead>\n",
       "    <tr style=\"text-align: right;\">\n",
       "      <th></th>\n",
       "      <th>index</th>\n",
       "      <th>week_no</th>\n",
       "      <th>year</th>\n",
       "      <th>date</th>\n",
       "      <th>counts</th>\n",
       "      <th>mort_avg</th>\n",
       "      <th>variance_from_avg</th>\n",
       "      <th>consent</th>\n",
       "    </tr>\n",
       "  </thead>\n",
       "  <tbody>\n",
       "    <tr>\n",
       "      <th>0</th>\n",
       "      <td>16029</td>\n",
       "      <td>0</td>\n",
       "      <td>0</td>\n",
       "      <td>2000-01-01</td>\n",
       "      <td>0</td>\n",
       "      <td>0.0</td>\n",
       "      <td>0</td>\n",
       "      <td>False</td>\n",
       "    </tr>\n",
       "  </tbody>\n",
       "</table>\n",
       "</div>"
      ],
      "text/plain": [
       "   index  week_no  year       date  counts  mort_avg  variance_from_avg  \\\n",
       "0  16029        0     0 2000-01-01       0       0.0                  0   \n",
       "\n",
       "   consent  \n",
       "0    False  "
      ]
     },
     "execution_count": 256,
     "metadata": {},
     "output_type": "execute_result"
    }
   ],
   "source": [
    "dfTofill.iloc[0,0]=index_number\n",
    "dfTofill"
   ]
  },
  {
   "cell_type": "markdown",
   "id": "optical-capacity",
   "metadata": {},
   "source": [
    "#### Load the widgets and display packages"
   ]
  },
  {
   "cell_type": "code",
   "execution_count": 67,
   "id": "photographic-seeker",
   "metadata": {},
   "outputs": [],
   "source": [
    "#Load the 'ipywidgets' package\n",
    "import ipywidgets as widgets\n",
    "#Load the 'IPython.display' package\n",
    "from IPython.display import display"
   ]
  },
  {
   "cell_type": "markdown",
   "id": "wireless-disaster",
   "metadata": {},
   "source": [
    "## Week Number"
   ]
  },
  {
   "cell_type": "code",
   "execution_count": 257,
   "id": "unusual-installation",
   "metadata": {},
   "outputs": [
    {
     "data": {
      "application/vnd.jupyter.widget-view+json": {
       "model_id": "ce06af31179040cf89217cab2b95bc11",
       "version_major": 2,
       "version_minor": 0
      },
      "text/plain": [
       "BoundedIntText(value=1, description='Week Number:', layout=Layout(width='max-content'), max=52, min=1, style=D…"
      ]
     },
     "metadata": {},
     "output_type": "display_data"
    }
   ],
   "source": [
    "b = widgets.BoundedIntText(\n",
    "    value=1,\n",
    "    min=1,\n",
    "    max=52,\n",
    "    step=1,\n",
    "    description='Week Number:',\n",
    "    style={'description_width': 'initial'},\n",
    "    layout={'width': 'max-content'},\n",
    "    disabled=False\n",
    ")\n",
    "display(b)"
   ]
  },
  {
   "cell_type": "code",
   "execution_count": 258,
   "id": "downtown-anaheim",
   "metadata": {},
   "outputs": [
    {
     "data": {
      "text/html": [
       "<div>\n",
       "<style scoped>\n",
       "    .dataframe tbody tr th:only-of-type {\n",
       "        vertical-align: middle;\n",
       "    }\n",
       "\n",
       "    .dataframe tbody tr th {\n",
       "        vertical-align: top;\n",
       "    }\n",
       "\n",
       "    .dataframe thead th {\n",
       "        text-align: right;\n",
       "    }\n",
       "</style>\n",
       "<table border=\"1\" class=\"dataframe\">\n",
       "  <thead>\n",
       "    <tr style=\"text-align: right;\">\n",
       "      <th></th>\n",
       "      <th>index</th>\n",
       "      <th>week_no</th>\n",
       "      <th>year</th>\n",
       "      <th>date</th>\n",
       "      <th>counts</th>\n",
       "      <th>mort_avg</th>\n",
       "      <th>variance_from_avg</th>\n",
       "      <th>consent</th>\n",
       "    </tr>\n",
       "  </thead>\n",
       "  <tbody>\n",
       "    <tr>\n",
       "      <th>0</th>\n",
       "      <td>16029</td>\n",
       "      <td>30</td>\n",
       "      <td>0</td>\n",
       "      <td>2000-01-01</td>\n",
       "      <td>0</td>\n",
       "      <td>0.0</td>\n",
       "      <td>0</td>\n",
       "      <td>False</td>\n",
       "    </tr>\n",
       "  </tbody>\n",
       "</table>\n",
       "</div>"
      ],
      "text/plain": [
       "   index  week_no  year       date  counts  mort_avg  variance_from_avg  \\\n",
       "0  16029       30     0 2000-01-01       0       0.0                  0   \n",
       "\n",
       "   consent  \n",
       "0    False  "
      ]
     },
     "execution_count": 258,
     "metadata": {},
     "output_type": "execute_result"
    }
   ],
   "source": [
    "dfTofill.iloc[0,1]=b.value\n",
    "dfTofill"
   ]
  },
  {
   "cell_type": "markdown",
   "id": "forward-columbus",
   "metadata": {},
   "source": [
    "## Year"
   ]
  },
  {
   "cell_type": "code",
   "execution_count": 259,
   "id": "impaired-intensity",
   "metadata": {},
   "outputs": [
    {
     "data": {
      "application/vnd.jupyter.widget-view+json": {
       "model_id": "269837a683d64a21be880912a592c92e",
       "version_major": 2,
       "version_minor": 0
      },
      "text/plain": [
       "Dropdown(description='Number:', index=12, options=('2010', '2011', '2012', '2013', '2014', '2015', '2016', '20…"
      ]
     },
     "metadata": {},
     "output_type": "display_data"
    }
   ],
   "source": [
    "c = widgets.Dropdown(\n",
    "    options=['2010', '2011', '2012', '2013', '2014', '2015', '2016', '2017', '2018', '2019', '2020', '2021', '2022', '2023', '2024'],\n",
    "    value='2022',\n",
    "    description='Number:',\n",
    "    disabled=False,\n",
    ")\n",
    "display(c)"
   ]
  },
  {
   "cell_type": "code",
   "execution_count": 260,
   "id": "alien-class",
   "metadata": {},
   "outputs": [
    {
     "data": {
      "text/html": [
       "<div>\n",
       "<style scoped>\n",
       "    .dataframe tbody tr th:only-of-type {\n",
       "        vertical-align: middle;\n",
       "    }\n",
       "\n",
       "    .dataframe tbody tr th {\n",
       "        vertical-align: top;\n",
       "    }\n",
       "\n",
       "    .dataframe thead th {\n",
       "        text-align: right;\n",
       "    }\n",
       "</style>\n",
       "<table border=\"1\" class=\"dataframe\">\n",
       "  <thead>\n",
       "    <tr style=\"text-align: right;\">\n",
       "      <th></th>\n",
       "      <th>index</th>\n",
       "      <th>week_no</th>\n",
       "      <th>year</th>\n",
       "      <th>date</th>\n",
       "      <th>counts</th>\n",
       "      <th>mort_avg</th>\n",
       "      <th>variance_from_avg</th>\n",
       "      <th>consent</th>\n",
       "    </tr>\n",
       "  </thead>\n",
       "  <tbody>\n",
       "    <tr>\n",
       "      <th>0</th>\n",
       "      <td>16029</td>\n",
       "      <td>30</td>\n",
       "      <td>2019</td>\n",
       "      <td>2000-01-01</td>\n",
       "      <td>0</td>\n",
       "      <td>0.0</td>\n",
       "      <td>0</td>\n",
       "      <td>False</td>\n",
       "    </tr>\n",
       "  </tbody>\n",
       "</table>\n",
       "</div>"
      ],
      "text/plain": [
       "   index  week_no  year       date  counts  mort_avg  variance_from_avg  \\\n",
       "0  16029       30  2019 2000-01-01       0       0.0                  0   \n",
       "\n",
       "   consent  \n",
       "0    False  "
      ]
     },
     "execution_count": 260,
     "metadata": {},
     "output_type": "execute_result"
    }
   ],
   "source": [
    "dfTofill.iloc[0,2]=c.value\n",
    "dfTofill"
   ]
  },
  {
   "cell_type": "markdown",
   "id": "coordinated-humanity",
   "metadata": {},
   "source": [
    "## Date"
   ]
  },
  {
   "cell_type": "code",
   "execution_count": 261,
   "id": "radical-refund",
   "metadata": {},
   "outputs": [
    {
     "data": {
      "application/vnd.jupyter.widget-view+json": {
       "model_id": "80e7ab2b75eb4043a832a07f478a09e5",
       "version_major": 2,
       "version_minor": 0
      },
      "text/plain": [
       "DatePicker(value=None, description='Period')"
      ]
     },
     "metadata": {},
     "output_type": "display_data"
    }
   ],
   "source": [
    "d = widgets.DatePicker(\n",
    "    description='Period',\n",
    "    disabled=False\n",
    ")\n",
    "display(d)"
   ]
  },
  {
   "cell_type": "code",
   "execution_count": 262,
   "id": "found-junction",
   "metadata": {},
   "outputs": [
    {
     "data": {
      "text/html": [
       "<div>\n",
       "<style scoped>\n",
       "    .dataframe tbody tr th:only-of-type {\n",
       "        vertical-align: middle;\n",
       "    }\n",
       "\n",
       "    .dataframe tbody tr th {\n",
       "        vertical-align: top;\n",
       "    }\n",
       "\n",
       "    .dataframe thead th {\n",
       "        text-align: right;\n",
       "    }\n",
       "</style>\n",
       "<table border=\"1\" class=\"dataframe\">\n",
       "  <thead>\n",
       "    <tr style=\"text-align: right;\">\n",
       "      <th></th>\n",
       "      <th>index</th>\n",
       "      <th>week_no</th>\n",
       "      <th>year</th>\n",
       "      <th>date</th>\n",
       "      <th>counts</th>\n",
       "      <th>mort_avg</th>\n",
       "      <th>variance_from_avg</th>\n",
       "      <th>consent</th>\n",
       "    </tr>\n",
       "  </thead>\n",
       "  <tbody>\n",
       "    <tr>\n",
       "      <th>0</th>\n",
       "      <td>16029</td>\n",
       "      <td>30</td>\n",
       "      <td>2019</td>\n",
       "      <td>2019-07-26</td>\n",
       "      <td>0</td>\n",
       "      <td>0.0</td>\n",
       "      <td>0</td>\n",
       "      <td>False</td>\n",
       "    </tr>\n",
       "  </tbody>\n",
       "</table>\n",
       "</div>"
      ],
      "text/plain": [
       "   index  week_no  year        date  counts  mort_avg  variance_from_avg  \\\n",
       "0  16029       30  2019  2019-07-26       0       0.0                  0   \n",
       "\n",
       "   consent  \n",
       "0    False  "
      ]
     },
     "execution_count": 262,
     "metadata": {},
     "output_type": "execute_result"
    }
   ],
   "source": [
    "dfTofill.iloc[0,3]=d.value\n",
    "dfTofill"
   ]
  },
  {
   "cell_type": "markdown",
   "id": "proprietary-feelings",
   "metadata": {},
   "source": [
    "## Counts"
   ]
  },
  {
   "cell_type": "code",
   "execution_count": 264,
   "id": "satisfied-rebound",
   "metadata": {},
   "outputs": [
    {
     "data": {
      "application/vnd.jupyter.widget-view+json": {
       "model_id": "ac114a511e3f4a7e948b40517c6192ac",
       "version_major": 2,
       "version_minor": 0
      },
      "text/plain": [
       "IntText(value=0, description='Number of deaths in the preceding week:', layout=Layout(width='max-content'), st…"
      ]
     },
     "metadata": {},
     "output_type": "display_data"
    }
   ],
   "source": [
    "e = widgets.IntText(\n",
    "        value=0,\n",
    "        description='Number of deaths in the preceding week:',\n",
    "        disabled=False,\n",
    "        style={'description_width': 'initial'},\n",
    "        layout={'width': 'max-content'})\n",
    "display(e)"
   ]
  },
  {
   "cell_type": "code",
   "execution_count": 265,
   "id": "opened-affair",
   "metadata": {},
   "outputs": [
    {
     "data": {
      "text/html": [
       "<div>\n",
       "<style scoped>\n",
       "    .dataframe tbody tr th:only-of-type {\n",
       "        vertical-align: middle;\n",
       "    }\n",
       "\n",
       "    .dataframe tbody tr th {\n",
       "        vertical-align: top;\n",
       "    }\n",
       "\n",
       "    .dataframe thead th {\n",
       "        text-align: right;\n",
       "    }\n",
       "</style>\n",
       "<table border=\"1\" class=\"dataframe\">\n",
       "  <thead>\n",
       "    <tr style=\"text-align: right;\">\n",
       "      <th></th>\n",
       "      <th>index</th>\n",
       "      <th>week_no</th>\n",
       "      <th>year</th>\n",
       "      <th>date</th>\n",
       "      <th>counts</th>\n",
       "      <th>mort_avg</th>\n",
       "      <th>variance_from_avg</th>\n",
       "      <th>consent</th>\n",
       "    </tr>\n",
       "  </thead>\n",
       "  <tbody>\n",
       "    <tr>\n",
       "      <th>0</th>\n",
       "      <td>16029</td>\n",
       "      <td>30</td>\n",
       "      <td>2019</td>\n",
       "      <td>2019-07-26</td>\n",
       "      <td>9112</td>\n",
       "      <td>0.0</td>\n",
       "      <td>0</td>\n",
       "      <td>False</td>\n",
       "    </tr>\n",
       "  </tbody>\n",
       "</table>\n",
       "</div>"
      ],
      "text/plain": [
       "   index  week_no  year        date  counts  mort_avg  variance_from_avg  \\\n",
       "0  16029       30  2019  2019-07-26    9112       0.0                  0   \n",
       "\n",
       "   consent  \n",
       "0    False  "
      ]
     },
     "execution_count": 265,
     "metadata": {},
     "output_type": "execute_result"
    }
   ],
   "source": [
    "dfTofill.iloc[0,4]=e.value\n",
    "dfTofill"
   ]
  },
  {
   "cell_type": "markdown",
   "id": "destroyed-patch",
   "metadata": {},
   "source": [
    "## Average mortality "
   ]
  },
  {
   "cell_type": "code",
   "execution_count": 266,
   "id": "center-animal",
   "metadata": {},
   "outputs": [
    {
     "data": {
      "application/vnd.jupyter.widget-view+json": {
       "model_id": "d3a742a1387a41878f5ed1f4b4ab50fd",
       "version_major": 2,
       "version_minor": 0
      },
      "text/plain": [
       "FloatText(value=0.0, description='Average deaths for this week in the preceding 5-years:', layout=Layout(width…"
      ]
     },
     "metadata": {},
     "output_type": "display_data"
    }
   ],
   "source": [
    "f = widgets.FloatText(\n",
    "        value=0.0,\n",
    "        description='Average deaths for this week in the preceding 5-years:',\n",
    "        disabled=False,     \n",
    "        style={'description_width': 'initial'},\n",
    "        layout={'width': 'max-content'})\n",
    "display(f)"
   ]
  },
  {
   "cell_type": "code",
   "execution_count": 267,
   "id": "competent-fiber",
   "metadata": {},
   "outputs": [
    {
     "data": {
      "text/html": [
       "<div>\n",
       "<style scoped>\n",
       "    .dataframe tbody tr th:only-of-type {\n",
       "        vertical-align: middle;\n",
       "    }\n",
       "\n",
       "    .dataframe tbody tr th {\n",
       "        vertical-align: top;\n",
       "    }\n",
       "\n",
       "    .dataframe thead th {\n",
       "        text-align: right;\n",
       "    }\n",
       "</style>\n",
       "<table border=\"1\" class=\"dataframe\">\n",
       "  <thead>\n",
       "    <tr style=\"text-align: right;\">\n",
       "      <th></th>\n",
       "      <th>index</th>\n",
       "      <th>week_no</th>\n",
       "      <th>year</th>\n",
       "      <th>date</th>\n",
       "      <th>counts</th>\n",
       "      <th>mort_avg</th>\n",
       "      <th>variance_from_avg</th>\n",
       "      <th>consent</th>\n",
       "    </tr>\n",
       "  </thead>\n",
       "  <tbody>\n",
       "    <tr>\n",
       "      <th>0</th>\n",
       "      <td>16029</td>\n",
       "      <td>30</td>\n",
       "      <td>2019</td>\n",
       "      <td>2019-07-26</td>\n",
       "      <td>9112</td>\n",
       "      <td>9023.0</td>\n",
       "      <td>0</td>\n",
       "      <td>False</td>\n",
       "    </tr>\n",
       "  </tbody>\n",
       "</table>\n",
       "</div>"
      ],
      "text/plain": [
       "   index  week_no  year        date  counts  mort_avg  variance_from_avg  \\\n",
       "0  16029       30  2019  2019-07-26    9112    9023.0                  0   \n",
       "\n",
       "   consent  \n",
       "0    False  "
      ]
     },
     "execution_count": 267,
     "metadata": {},
     "output_type": "execute_result"
    }
   ],
   "source": [
    "dfTofill.iloc[0,5]=f.value\n",
    "dfTofill"
   ]
  },
  {
   "cell_type": "markdown",
   "id": "radical-remove",
   "metadata": {},
   "source": [
    "## Variance from Average"
   ]
  },
  {
   "cell_type": "code",
   "execution_count": 268,
   "id": "provincial-customs",
   "metadata": {},
   "outputs": [
    {
     "data": {
      "application/vnd.jupyter.widget-view+json": {
       "model_id": "fb22013cac21411dbd89b0bf0de528ce",
       "version_major": 2,
       "version_minor": 0
      },
      "text/plain": [
       "FloatText(value=0.0, description='Average deaths for this week (5-years preceding):', layout=Layout(width='max…"
      ]
     },
     "metadata": {},
     "output_type": "display_data"
    }
   ],
   "source": [
    "g=widgets.FloatText(\n",
    "    value=0.0,\n",
    "    description='Average deaths for this week (5-years preceding):',\n",
    "    disabled=False,\n",
    "    style={'description_width': 'initial'},\n",
    "    layout={'width': 'max-content'}\n",
    ")\n",
    "display(g)"
   ]
  },
  {
   "cell_type": "code",
   "execution_count": 269,
   "id": "higher-defendant",
   "metadata": {},
   "outputs": [
    {
     "data": {
      "text/html": [
       "<div>\n",
       "<style scoped>\n",
       "    .dataframe tbody tr th:only-of-type {\n",
       "        vertical-align: middle;\n",
       "    }\n",
       "\n",
       "    .dataframe tbody tr th {\n",
       "        vertical-align: top;\n",
       "    }\n",
       "\n",
       "    .dataframe thead th {\n",
       "        text-align: right;\n",
       "    }\n",
       "</style>\n",
       "<table border=\"1\" class=\"dataframe\">\n",
       "  <thead>\n",
       "    <tr style=\"text-align: right;\">\n",
       "      <th></th>\n",
       "      <th>index</th>\n",
       "      <th>week_no</th>\n",
       "      <th>year</th>\n",
       "      <th>date</th>\n",
       "      <th>counts</th>\n",
       "      <th>mort_avg</th>\n",
       "      <th>variance_from_avg</th>\n",
       "      <th>consent</th>\n",
       "    </tr>\n",
       "  </thead>\n",
       "  <tbody>\n",
       "    <tr>\n",
       "      <th>0</th>\n",
       "      <td>16029</td>\n",
       "      <td>30</td>\n",
       "      <td>2019</td>\n",
       "      <td>2019-07-26</td>\n",
       "      <td>9112</td>\n",
       "      <td>9023.0</td>\n",
       "      <td>1.009864</td>\n",
       "      <td>False</td>\n",
       "    </tr>\n",
       "  </tbody>\n",
       "</table>\n",
       "</div>"
      ],
      "text/plain": [
       "   index  week_no  year        date  counts  mort_avg  variance_from_avg  \\\n",
       "0  16029       30  2019  2019-07-26    9112    9023.0           1.009864   \n",
       "\n",
       "   consent  \n",
       "0    False  "
      ]
     },
     "execution_count": 269,
     "metadata": {},
     "output_type": "execute_result"
    }
   ],
   "source": [
    "dfTofill.iloc[0,6]=g.value\n",
    "dfTofill"
   ]
  },
  {
   "cell_type": "markdown",
   "id": "fiscal-proof",
   "metadata": {},
   "source": [
    "## Consent"
   ]
  },
  {
   "cell_type": "code",
   "execution_count": 181,
   "id": "breeding-ultimate",
   "metadata": {},
   "outputs": [
    {
     "data": {
      "application/vnd.jupyter.widget-view+json": {
       "model_id": "d1b8fedd69f848b994eacc0b6ad30c1c",
       "version_major": 2,
       "version_minor": 0
      },
      "text/plain": [
       "Checkbox(value=False, description='I consent for the data I have provided to be processed and shared in accord…"
      ]
     },
     "metadata": {},
     "output_type": "display_data"
    }
   ],
   "source": [
    "h = widgets.Checkbox(\n",
    "    value=False,\n",
    "    description='I consent for the data I have provided to be processed and shared in accordance with data protection regulations with the purpose of improving care service provision across the UK.',\n",
    "    disabled=False, \n",
    "    style={'description_width': 'initial'},\n",
    "    layout={'width': 'max-content'}\n",
    ")\n",
    "display(h)"
   ]
  },
  {
   "cell_type": "code",
   "execution_count": 270,
   "id": "initial-transcription",
   "metadata": {},
   "outputs": [
    {
     "data": {
      "text/html": [
       "<div>\n",
       "<style scoped>\n",
       "    .dataframe tbody tr th:only-of-type {\n",
       "        vertical-align: middle;\n",
       "    }\n",
       "\n",
       "    .dataframe tbody tr th {\n",
       "        vertical-align: top;\n",
       "    }\n",
       "\n",
       "    .dataframe thead th {\n",
       "        text-align: right;\n",
       "    }\n",
       "</style>\n",
       "<table border=\"1\" class=\"dataframe\">\n",
       "  <thead>\n",
       "    <tr style=\"text-align: right;\">\n",
       "      <th></th>\n",
       "      <th>index</th>\n",
       "      <th>week_no</th>\n",
       "      <th>year</th>\n",
       "      <th>date</th>\n",
       "      <th>counts</th>\n",
       "      <th>mort_avg</th>\n",
       "      <th>variance_from_avg</th>\n",
       "      <th>consent</th>\n",
       "    </tr>\n",
       "  </thead>\n",
       "  <tbody>\n",
       "    <tr>\n",
       "      <th>0</th>\n",
       "      <td>16029</td>\n",
       "      <td>30</td>\n",
       "      <td>2019</td>\n",
       "      <td>2019-07-26</td>\n",
       "      <td>9112</td>\n",
       "      <td>9023.0</td>\n",
       "      <td>1.009864</td>\n",
       "      <td>True</td>\n",
       "    </tr>\n",
       "  </tbody>\n",
       "</table>\n",
       "</div>"
      ],
      "text/plain": [
       "   index  week_no  year        date  counts  mort_avg  variance_from_avg  \\\n",
       "0  16029       30  2019  2019-07-26    9112    9023.0           1.009864   \n",
       "\n",
       "   consent  \n",
       "0     True  "
      ]
     },
     "execution_count": 270,
     "metadata": {},
     "output_type": "execute_result"
    }
   ],
   "source": [
    "dfTofill.iloc[0,7]=h.value\n",
    "dfTofill"
   ]
  },
  {
   "cell_type": "markdown",
   "id": "civic-heritage",
   "metadata": {},
   "source": [
    "# Concatenate the collected data to the CollectData data frame.   \n",
    "Let us use the `concat()` function from the Python *pandas* package to append the CollectData and dfTofill data frames. The concat() function is used to concatenate *pandas* objects."
   ]
  },
  {
   "cell_type": "code",
   "execution_count": 271,
   "id": "horizontal-toner",
   "metadata": {},
   "outputs": [
    {
     "data": {
      "text/html": [
       "<div>\n",
       "<style scoped>\n",
       "    .dataframe tbody tr th:only-of-type {\n",
       "        vertical-align: middle;\n",
       "    }\n",
       "\n",
       "    .dataframe tbody tr th {\n",
       "        vertical-align: top;\n",
       "    }\n",
       "\n",
       "    .dataframe thead th {\n",
       "        text-align: right;\n",
       "    }\n",
       "</style>\n",
       "<table border=\"1\" class=\"dataframe\">\n",
       "  <thead>\n",
       "    <tr style=\"text-align: right;\">\n",
       "      <th></th>\n",
       "      <th>index</th>\n",
       "      <th>week_no</th>\n",
       "      <th>year</th>\n",
       "      <th>date</th>\n",
       "      <th>counts</th>\n",
       "      <th>mort_avg</th>\n",
       "      <th>variance_from_avg</th>\n",
       "      <th>consent</th>\n",
       "    </tr>\n",
       "  </thead>\n",
       "  <tbody>\n",
       "    <tr>\n",
       "      <th>0</th>\n",
       "      <td>1798</td>\n",
       "      <td>30</td>\n",
       "      <td>2011</td>\n",
       "      <td>2011-07-29</td>\n",
       "      <td>0</td>\n",
       "      <td>8737.4</td>\n",
       "      <td>0.967794</td>\n",
       "      <td>True</td>\n",
       "    </tr>\n",
       "    <tr>\n",
       "      <th>1</th>\n",
       "      <td>1803</td>\n",
       "      <td>35</td>\n",
       "      <td>2011</td>\n",
       "      <td>2011-09-02</td>\n",
       "      <td>7717</td>\n",
       "      <td>7984.6</td>\n",
       "      <td>0.966485</td>\n",
       "      <td>True</td>\n",
       "    </tr>\n",
       "    <tr>\n",
       "      <th>2</th>\n",
       "      <td>5324</td>\n",
       "      <td>19</td>\n",
       "      <td>2013</td>\n",
       "      <td>2013-05-10</td>\n",
       "      <td>8814</td>\n",
       "      <td>9096.0</td>\n",
       "      <td>0.968997</td>\n",
       "      <td>True</td>\n",
       "    </tr>\n",
       "    <tr>\n",
       "      <th>3</th>\n",
       "      <td>5326</td>\n",
       "      <td>21</td>\n",
       "      <td>2013</td>\n",
       "      <td>2013-05-24</td>\n",
       "      <td>9530</td>\n",
       "      <td>9311.2</td>\n",
       "      <td>1.023499</td>\n",
       "      <td>True</td>\n",
       "    </tr>\n",
       "    <tr>\n",
       "      <th>4</th>\n",
       "      <td>7121</td>\n",
       "      <td>48</td>\n",
       "      <td>2014</td>\n",
       "      <td>2014-11-28</td>\n",
       "      <td>9928</td>\n",
       "      <td>9398.8</td>\n",
       "      <td>1.056305</td>\n",
       "      <td>True</td>\n",
       "    </tr>\n",
       "    <tr>\n",
       "      <th>5</th>\n",
       "      <td>10722</td>\n",
       "      <td>27</td>\n",
       "      <td>2016</td>\n",
       "      <td>2016-07-08</td>\n",
       "      <td>9138</td>\n",
       "      <td>8872.2</td>\n",
       "      <td>1.029959</td>\n",
       "      <td>True</td>\n",
       "    </tr>\n",
       "    <tr>\n",
       "      <th>6</th>\n",
       "      <td>10742</td>\n",
       "      <td>47</td>\n",
       "      <td>2016</td>\n",
       "      <td>2016-11-25</td>\n",
       "      <td>10603</td>\n",
       "      <td>9572.0</td>\n",
       "      <td>1.107710</td>\n",
       "      <td>True</td>\n",
       "    </tr>\n",
       "    <tr>\n",
       "      <th>7</th>\n",
       "      <td>12473</td>\n",
       "      <td>10</td>\n",
       "      <td>2017</td>\n",
       "      <td>2017-03-10</td>\n",
       "      <td>11077</td>\n",
       "      <td>10816.0</td>\n",
       "      <td>1.024131</td>\n",
       "      <td>True</td>\n",
       "    </tr>\n",
       "    <tr>\n",
       "      <th>8</th>\n",
       "      <td>14259</td>\n",
       "      <td>28</td>\n",
       "      <td>2018</td>\n",
       "      <td>2018-07-13</td>\n",
       "      <td>9293</td>\n",
       "      <td>9018.0</td>\n",
       "      <td>1.030495</td>\n",
       "      <td>True</td>\n",
       "    </tr>\n",
       "    <tr>\n",
       "      <th>9</th>\n",
       "      <td>16021</td>\n",
       "      <td>22</td>\n",
       "      <td>2019</td>\n",
       "      <td>2019-05-31</td>\n",
       "      <td>8260</td>\n",
       "      <td>8125.0</td>\n",
       "      <td>1.016615</td>\n",
       "      <td>True</td>\n",
       "    </tr>\n",
       "    <tr>\n",
       "      <th>0</th>\n",
       "      <td>16029</td>\n",
       "      <td>30</td>\n",
       "      <td>2019</td>\n",
       "      <td>2019-07-26</td>\n",
       "      <td>9112</td>\n",
       "      <td>9023.0</td>\n",
       "      <td>1.009864</td>\n",
       "      <td>True</td>\n",
       "    </tr>\n",
       "  </tbody>\n",
       "</table>\n",
       "</div>"
      ],
      "text/plain": [
       "   index  week_no  year        date  counts  mort_avg  variance_from_avg  \\\n",
       "0   1798       30  2011  2011-07-29       0    8737.4           0.967794   \n",
       "1   1803       35  2011  2011-09-02    7717    7984.6           0.966485   \n",
       "2   5324       19  2013  2013-05-10    8814    9096.0           0.968997   \n",
       "3   5326       21  2013  2013-05-24    9530    9311.2           1.023499   \n",
       "4   7121       48  2014  2014-11-28    9928    9398.8           1.056305   \n",
       "5  10722       27  2016  2016-07-08    9138    8872.2           1.029959   \n",
       "6  10742       47  2016  2016-11-25   10603    9572.0           1.107710   \n",
       "7  12473       10  2017  2017-03-10   11077   10816.0           1.024131   \n",
       "8  14259       28  2018  2018-07-13    9293    9018.0           1.030495   \n",
       "9  16021       22  2019  2019-05-31    8260    8125.0           1.016615   \n",
       "0  16029       30  2019  2019-07-26    9112    9023.0           1.009864   \n",
       "\n",
       "   consent  \n",
       "0     True  \n",
       "1     True  \n",
       "2     True  \n",
       "3     True  \n",
       "4     True  \n",
       "5     True  \n",
       "6     True  \n",
       "7     True  \n",
       "8     True  \n",
       "9     True  \n",
       "0     True  "
      ]
     },
     "metadata": {},
     "output_type": "display_data"
    }
   ],
   "source": [
    "# CollectData is the first data frame\n",
    "# dfTofill is the second data frame\n",
    "CollectData  = pd.concat([CollectData, dfTofill])\n",
    "display(CollectData)"
   ]
  },
  {
   "cell_type": "markdown",
   "id": "resistant-participant",
   "metadata": {},
   "source": [
    "### Check consent has been given"
   ]
  },
  {
   "cell_type": "code",
   "execution_count": 272,
   "id": "heated-pharmacy",
   "metadata": {},
   "outputs": [
    {
     "data": {
      "text/html": [
       "<div>\n",
       "<style scoped>\n",
       "    .dataframe tbody tr th:only-of-type {\n",
       "        vertical-align: middle;\n",
       "    }\n",
       "\n",
       "    .dataframe tbody tr th {\n",
       "        vertical-align: top;\n",
       "    }\n",
       "\n",
       "    .dataframe thead th {\n",
       "        text-align: right;\n",
       "    }\n",
       "</style>\n",
       "<table border=\"1\" class=\"dataframe\">\n",
       "  <thead>\n",
       "    <tr style=\"text-align: right;\">\n",
       "      <th></th>\n",
       "      <th>index</th>\n",
       "      <th>week_no</th>\n",
       "      <th>year</th>\n",
       "      <th>date</th>\n",
       "      <th>counts</th>\n",
       "      <th>mort_avg</th>\n",
       "      <th>variance_from_avg</th>\n",
       "      <th>consent</th>\n",
       "    </tr>\n",
       "  </thead>\n",
       "  <tbody>\n",
       "    <tr>\n",
       "      <th>0</th>\n",
       "      <td>1798</td>\n",
       "      <td>30</td>\n",
       "      <td>2011</td>\n",
       "      <td>2011-07-29</td>\n",
       "      <td>0</td>\n",
       "      <td>8737.4</td>\n",
       "      <td>0.967794</td>\n",
       "      <td>True</td>\n",
       "    </tr>\n",
       "    <tr>\n",
       "      <th>1</th>\n",
       "      <td>1803</td>\n",
       "      <td>35</td>\n",
       "      <td>2011</td>\n",
       "      <td>2011-09-02</td>\n",
       "      <td>7717</td>\n",
       "      <td>7984.6</td>\n",
       "      <td>0.966485</td>\n",
       "      <td>True</td>\n",
       "    </tr>\n",
       "    <tr>\n",
       "      <th>2</th>\n",
       "      <td>5324</td>\n",
       "      <td>19</td>\n",
       "      <td>2013</td>\n",
       "      <td>2013-05-10</td>\n",
       "      <td>8814</td>\n",
       "      <td>9096.0</td>\n",
       "      <td>0.968997</td>\n",
       "      <td>True</td>\n",
       "    </tr>\n",
       "    <tr>\n",
       "      <th>3</th>\n",
       "      <td>5326</td>\n",
       "      <td>21</td>\n",
       "      <td>2013</td>\n",
       "      <td>2013-05-24</td>\n",
       "      <td>9530</td>\n",
       "      <td>9311.2</td>\n",
       "      <td>1.023499</td>\n",
       "      <td>True</td>\n",
       "    </tr>\n",
       "    <tr>\n",
       "      <th>4</th>\n",
       "      <td>7121</td>\n",
       "      <td>48</td>\n",
       "      <td>2014</td>\n",
       "      <td>2014-11-28</td>\n",
       "      <td>9928</td>\n",
       "      <td>9398.8</td>\n",
       "      <td>1.056305</td>\n",
       "      <td>True</td>\n",
       "    </tr>\n",
       "    <tr>\n",
       "      <th>5</th>\n",
       "      <td>10722</td>\n",
       "      <td>27</td>\n",
       "      <td>2016</td>\n",
       "      <td>2016-07-08</td>\n",
       "      <td>9138</td>\n",
       "      <td>8872.2</td>\n",
       "      <td>1.029959</td>\n",
       "      <td>True</td>\n",
       "    </tr>\n",
       "    <tr>\n",
       "      <th>6</th>\n",
       "      <td>10742</td>\n",
       "      <td>47</td>\n",
       "      <td>2016</td>\n",
       "      <td>2016-11-25</td>\n",
       "      <td>10603</td>\n",
       "      <td>9572.0</td>\n",
       "      <td>1.107710</td>\n",
       "      <td>True</td>\n",
       "    </tr>\n",
       "    <tr>\n",
       "      <th>7</th>\n",
       "      <td>12473</td>\n",
       "      <td>10</td>\n",
       "      <td>2017</td>\n",
       "      <td>2017-03-10</td>\n",
       "      <td>11077</td>\n",
       "      <td>10816.0</td>\n",
       "      <td>1.024131</td>\n",
       "      <td>True</td>\n",
       "    </tr>\n",
       "    <tr>\n",
       "      <th>8</th>\n",
       "      <td>14259</td>\n",
       "      <td>28</td>\n",
       "      <td>2018</td>\n",
       "      <td>2018-07-13</td>\n",
       "      <td>9293</td>\n",
       "      <td>9018.0</td>\n",
       "      <td>1.030495</td>\n",
       "      <td>True</td>\n",
       "    </tr>\n",
       "    <tr>\n",
       "      <th>9</th>\n",
       "      <td>16021</td>\n",
       "      <td>22</td>\n",
       "      <td>2019</td>\n",
       "      <td>2019-05-31</td>\n",
       "      <td>8260</td>\n",
       "      <td>8125.0</td>\n",
       "      <td>1.016615</td>\n",
       "      <td>True</td>\n",
       "    </tr>\n",
       "    <tr>\n",
       "      <th>0</th>\n",
       "      <td>16029</td>\n",
       "      <td>30</td>\n",
       "      <td>2019</td>\n",
       "      <td>2019-07-26</td>\n",
       "      <td>9112</td>\n",
       "      <td>9023.0</td>\n",
       "      <td>1.009864</td>\n",
       "      <td>True</td>\n",
       "    </tr>\n",
       "  </tbody>\n",
       "</table>\n",
       "</div>"
      ],
      "text/plain": [
       "   index  week_no  year        date  counts  mort_avg  variance_from_avg  \\\n",
       "0   1798       30  2011  2011-07-29       0    8737.4           0.967794   \n",
       "1   1803       35  2011  2011-09-02    7717    7984.6           0.966485   \n",
       "2   5324       19  2013  2013-05-10    8814    9096.0           0.968997   \n",
       "3   5326       21  2013  2013-05-24    9530    9311.2           1.023499   \n",
       "4   7121       48  2014  2014-11-28    9928    9398.8           1.056305   \n",
       "5  10722       27  2016  2016-07-08    9138    8872.2           1.029959   \n",
       "6  10742       47  2016  2016-11-25   10603    9572.0           1.107710   \n",
       "7  12473       10  2017  2017-03-10   11077   10816.0           1.024131   \n",
       "8  14259       28  2018  2018-07-13    9293    9018.0           1.030495   \n",
       "9  16021       22  2019  2019-05-31    8260    8125.0           1.016615   \n",
       "0  16029       30  2019  2019-07-26    9112    9023.0           1.009864   \n",
       "\n",
       "   consent  \n",
       "0     True  \n",
       "1     True  \n",
       "2     True  \n",
       "3     True  \n",
       "4     True  \n",
       "5     True  \n",
       "6     True  \n",
       "7     True  \n",
       "8     True  \n",
       "9     True  \n",
       "0     True  "
      ]
     },
     "metadata": {},
     "output_type": "display_data"
    }
   ],
   "source": [
    "CollectData=CollectData[CollectData['consent'] == True]\n",
    "display(CollectData)"
   ]
  },
  {
   "cell_type": "markdown",
   "id": "royal-observer",
   "metadata": {},
   "source": [
    "### Save the CollectData data frame"
   ]
  },
  {
   "cell_type": "code",
   "execution_count": 273,
   "id": "numeric-holly",
   "metadata": {},
   "outputs": [],
   "source": [
    "CollectData.to_csv('../Data/collected_data.csv', index=False)"
   ]
  },
  {
   "cell_type": "markdown",
   "id": "aging-syracuse",
   "metadata": {},
   "source": [
    "### Save the completed CollectData file to RawData"
   ]
  },
  {
   "cell_type": "code",
   "execution_count": 274,
   "id": "motivated-newfoundland",
   "metadata": {},
   "outputs": [],
   "source": [
    "CollectData.to_csv('../RawData/collected_data_final.csv', index=False)"
   ]
  },
  {
   "cell_type": "code",
   "execution_count": null,
   "id": "virgin-disney",
   "metadata": {},
   "outputs": [],
   "source": []
  }
 ],
 "metadata": {
  "kernelspec": {
   "display_name": "Python 3 (ipykernel)",
   "language": "python",
   "name": "python3"
  },
  "language_info": {
   "codemirror_mode": {
    "name": "ipython",
    "version": 3
   },
   "file_extension": ".py",
   "mimetype": "text/x-python",
   "name": "python",
   "nbconvert_exporter": "python",
   "pygments_lexer": "ipython3",
   "version": "3.9.2"
  }
 },
 "nbformat": 4,
 "nbformat_minor": 5
}
